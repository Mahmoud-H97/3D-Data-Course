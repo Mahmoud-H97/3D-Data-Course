{
 "cells": [
  {
   "cell_type": "markdown",
   "metadata": {},
   "source": [
    "## Installing required libs (if not done in the conda env.)"
   ]
  },
  {
   "cell_type": "code",
   "execution_count": null,
   "metadata": {},
   "outputs": [],
   "source": [
    "pip install open3d"
   ]
  },
  {
   "cell_type": "code",
   "execution_count": null,
   "metadata": {},
   "outputs": [],
   "source": [
    "pip install laspy"
   ]
  },
  {
   "cell_type": "markdown",
   "metadata": {},
   "source": [
    "## Importing Libraries"
   ]
  },
  {
   "cell_type": "code",
   "execution_count": 3,
   "metadata": {},
   "outputs": [
    {
     "name": "stdout",
     "output_type": "stream",
     "text": [
      "Jupyter environment detected. Enabling Open3D WebVisualizer.\n",
      "[Open3D INFO] WebRTC GUI backend enabled.\n",
      "[Open3D INFO] WebRTCWindowSystem: HTTP handshake server disabled.\n"
     ]
    }
   ],
   "source": [
    "import open3d as o3d\n",
    "import numpy as np\n",
    "import laspy as lp"
   ]
  },
  {
   "cell_type": "code",
   "execution_count": 32,
   "metadata": {},
   "outputs": [
    {
     "name": "stdout",
     "output_type": "stream",
     "text": [
      "['X', 'Y', 'Z', 'intensity', 'return_number', 'number_of_returns', 'synthetic', 'key_point', 'withheld', 'overlap', 'scanner_channel', 'scan_direction_flag', 'edge_of_flight_line', 'classification', 'user_data', 'scan_angle', 'point_source_id', 'gps_time', 'red', 'green', 'blue', 'nir']\n",
      "252\n"
     ]
    }
   ],
   "source": [
    "pcd = lp.read(\"33CN2_16_clip.las\")\n",
    "#pcd = lp.read(\"33CN2_14.LAZ\")\n",
    "\n",
    "print([dimension.name for dimension in pcd.point_format.dimensions])\n",
    "print(np.max(pcd.green))"
   ]
  },
  {
   "cell_type": "code",
   "execution_count": 47,
   "metadata": {},
   "outputs": [],
   "source": [
    "points = np.vstack((pcd.x, pcd.y, pcd.z)).transpose()\n",
    "colors = np.vstack((pcd.red, pcd.green, pcd.blue)).transpose()\n",
    "#colors = np.vstack((pcd.intensity, pcd.intensity, pcd.intensity)).transpose()"
   ]
  },
  {
   "cell_type": "markdown",
   "metadata": {},
   "source": [
    "## Pre-Processing"
   ]
  },
  {
   "cell_type": "code",
   "execution_count": 20,
   "metadata": {},
   "outputs": [
    {
     "name": "stdout",
     "output_type": "stream",
     "text": [
      "points Number before: 1832185\n",
      "Points Number after: 229024\n"
     ]
    }
   ],
   "source": [
    "factor = 8 \n",
    "decimated_points_random = points[::factor]\n",
    "decimated_colors_random = colors[::factor]\n",
    "\n",
    "print(\"points Number before:\", len(points))\n",
    "print(\"Points Number after:\", len(decimated_points_random))"
   ]
  },
  {
   "cell_type": "markdown",
   "metadata": {},
   "source": [
    "## Visualization\n",
    "\n",
    "- To normalize the RGB values (i.e. making its values between 0 and 1) we devide by 255 If the RGB values are in the 8-bit range (where each channel value is between 0 and 255).\n",
    "- When the RGB values are in the range of 16-bit color depth (where each channel value can range from 0 to 65535), you would normalize by dividing by 65535."
   ]
  },
  {
   "cell_type": "code",
   "execution_count": 48,
   "metadata": {},
   "outputs": [],
   "source": [
    "point_clouds = o3d.geometry.PointCloud()\n",
    "point_clouds.points = o3d.utility.Vector3dVector(points)\n",
    "point_clouds.colors = o3d.utility.Vector3dVector(colors/255) \n",
    "\n",
    "o3d.visualization.draw_geometries([point_clouds])"
   ]
  },
  {
   "cell_type": "markdown",
   "metadata": {},
   "source": [
    "## Editing Mode:\n",
    "\n",
    "You can also visualize your point clouds and edit it interactively using the next function.\n",
    "\n",
    "- You can press \"y\" to align the geomtry with the negative direction of y-axis (also applicable for \"x\").\n",
    "- You can use \"z\" to return to the top ortho-view. \n",
    "- Press \"k\" to lock screen and switch to selection mode..\n",
    "- Then you can use left click for rectangle selection..\n",
    "- or use ctrl + left click for polygon selection.\n",
    "- Press \"s\" to save the selected geometry.\n",
    "- Press \"f\" to switch to selection mode."
   ]
  },
  {
   "cell_type": "code",
   "execution_count": 49,
   "metadata": {},
   "outputs": [],
   "source": [
    "o3d.visualization.draw_geometries_with_editing([point_clouds])"
   ]
  },
  {
   "cell_type": "code",
   "execution_count": null,
   "metadata": {},
   "outputs": [],
   "source": []
  }
 ],
 "metadata": {
  "kernelspec": {
   "display_name": "3ddata",
   "language": "python",
   "name": "python3"
  },
  "language_info": {
   "codemirror_mode": {
    "name": "ipython",
    "version": 3
   },
   "file_extension": ".py",
   "mimetype": "text/x-python",
   "name": "python",
   "nbconvert_exporter": "python",
   "pygments_lexer": "ipython3",
   "version": "3.8.19"
  }
 },
 "nbformat": 4,
 "nbformat_minor": 2
}
